{
  "nbformat": 4,
  "nbformat_minor": 0,
  "metadata": {
    "accelerator": "GPU",
    "colab": {
      "name": "FN.ipynb",
      "provenance": [],
      "collapsed_sections": [],
      "include_colab_link": true
    },
    "kernelspec": {
      "display_name": "Python 3",
      "name": "python3"
    },
    "language_info": {
      "name": "python"
    }
  },
  "cells": [
    {
      "cell_type": "markdown",
      "metadata": {
        "id": "view-in-github",
        "colab_type": "text"
      },
      "source": [
        "<a href=\"https://colab.research.google.com/github/itzpankajpanwar/FakeNewsPropagation/blob/main/FN.ipynb\" target=\"_parent\"><img src=\"https://colab.research.google.com/assets/colab-badge.svg\" alt=\"Open In Colab\"/></a>"
      ]
    },
    {
      "cell_type": "code",
      "metadata": {
        "id": "LmUtURK9TnJB"
      },
      "source": [
        "import keras\n",
        "from keras.datasets import mnist\n",
        "from keras.models import Sequential\n",
        "from keras.layers import Dense, Dropout, LSTM\n",
        "from keras.optimizers import Adam"
      ],
      "execution_count": null,
      "outputs": []
    },
    {
      "cell_type": "code",
      "metadata": {
        "colab": {
          "base_uri": "https://localhost:8080/"
        },
        "id": "0f4WCnOJ-xNh",
        "outputId": "919e69ef-a002-4f19-8deb-b8105b785ba2"
      },
      "source": [
        "!git clone https://github.com/itzpankajpanwar/FakeNewsPropagation.git"
      ],
      "execution_count": null,
      "outputs": [
        {
          "output_type": "stream",
          "text": [
            "Cloning into 'FakeNewsPropagation'...\n",
            "remote: Enumerating objects: 46, done.\u001b[K\n",
            "remote: Counting objects: 100% (46/46), done.\u001b[K\n",
            "remote: Compressing objects: 100% (46/46), done.\u001b[K\n",
            "remote: Total 11383 (delta 25), reused 0 (delta 0), pack-reused 11337\u001b[K\n",
            "Receiving objects: 100% (11383/11383), 149.79 MiB | 19.77 MiB/s, done.\n",
            "Resolving deltas: 100% (53/53), done.\n",
            "Checking out files: 100% (11295/11295), done.\n"
          ],
          "name": "stdout"
        }
      ]
    },
    {
      "cell_type": "code",
      "metadata": {
        "id": "8zCayat9_QLo"
      },
      "source": [
        "!python3 \"/content/FakeNewsPropagation/load_dataset.py\""
      ],
      "execution_count": null,
      "outputs": []
    },
    {
      "cell_type": "code",
      "metadata": {
        "id": "QAiaDB4I_TcK"
      },
      "source": [
        "!pip install -r \"/content/FakeNewsPropagation/requirements.txt\""
      ],
      "execution_count": null,
      "outputs": []
    },
    {
      "cell_type": "code",
      "metadata": {
        "id": "mcpzMRZEvkyY"
      },
      "source": [
        "!pip install vaderSentiment "
      ],
      "execution_count": null,
      "outputs": []
    },
    {
      "cell_type": "code",
      "metadata": {
        "colab": {
          "base_uri": "https://localhost:8080/"
        },
        "id": "tsgeSxFg_eEQ",
        "outputId": "9ce854d9-a4ff-4bac-c2c0-136400806aa7"
      },
      "source": [
        "!python3 \"/content/FakeNewsPropagation/basic_model.py\""
      ],
      "execution_count": null,
      "outputs": [
        {
          "output_type": "stream",
          "text": [
            "\n",
            "\n",
            " Working on Politifact Data \n",
            "\n",
            "\n",
            "\n",
            " dc.shape is : s (554, 1209)\n",
            "\n",
            " TRAIN AND TEST SHAPES ARE AS FOLLOWS\n",
            "\n",
            " X TRAIN :  (443, 1209)\n",
            "\n",
            " Y TRAIN  (443,)\n",
            "\n",
            " X TEST  (111, 1209)\n",
            "\n",
            " Y TEST  (111,) \n",
            "\n",
            "=======GaussianNB=======\n",
            "Accuracy : 0.5585585585585585\n",
            "Precision : 0.5833333333333334\n",
            "Recall : 0.38181818181818183\n",
            "F1 : 0.4615384615384616\n",
            "=======LogisticRegression=======\n",
            "/usr/local/lib/python3.7/dist-packages/sklearn/linear_model/_logistic.py:940: ConvergenceWarning: lbfgs failed to converge (status=1):\n",
            "STOP: TOTAL NO. of ITERATIONS REACHED LIMIT.\n",
            "\n",
            "Increase the number of iterations (max_iter) or scale the data as shown in:\n",
            "    https://scikit-learn.org/stable/modules/preprocessing.html\n",
            "Please also refer to the documentation for alternative solver options:\n",
            "    https://scikit-learn.org/stable/modules/linear_model.html#logistic-regression\n",
            "  extra_warning_msg=_LOGISTIC_SOLVER_CONVERGENCE_MSG)\n",
            "/usr/local/lib/python3.7/dist-packages/sklearn/linear_model/_logistic.py:940: ConvergenceWarning: lbfgs failed to converge (status=1):\n",
            "STOP: TOTAL NO. of ITERATIONS REACHED LIMIT.\n",
            "\n",
            "Increase the number of iterations (max_iter) or scale the data as shown in:\n",
            "    https://scikit-learn.org/stable/modules/preprocessing.html\n",
            "Please also refer to the documentation for alternative solver options:\n",
            "    https://scikit-learn.org/stable/modules/linear_model.html#logistic-regression\n",
            "  extra_warning_msg=_LOGISTIC_SOLVER_CONVERGENCE_MSG)\n",
            "/usr/local/lib/python3.7/dist-packages/sklearn/linear_model/_logistic.py:940: ConvergenceWarning: lbfgs failed to converge (status=1):\n",
            "STOP: TOTAL NO. of ITERATIONS REACHED LIMIT.\n",
            "\n",
            "Increase the number of iterations (max_iter) or scale the data as shown in:\n",
            "    https://scikit-learn.org/stable/modules/preprocessing.html\n",
            "Please also refer to the documentation for alternative solver options:\n",
            "    https://scikit-learn.org/stable/modules/linear_model.html#logistic-regression\n",
            "  extra_warning_msg=_LOGISTIC_SOLVER_CONVERGENCE_MSG)\n",
            "/usr/local/lib/python3.7/dist-packages/sklearn/linear_model/_logistic.py:940: ConvergenceWarning: lbfgs failed to converge (status=1):\n",
            "STOP: TOTAL NO. of ITERATIONS REACHED LIMIT.\n",
            "\n",
            "Increase the number of iterations (max_iter) or scale the data as shown in:\n",
            "    https://scikit-learn.org/stable/modules/preprocessing.html\n",
            "Please also refer to the documentation for alternative solver options:\n",
            "    https://scikit-learn.org/stable/modules/linear_model.html#logistic-regression\n",
            "  extra_warning_msg=_LOGISTIC_SOLVER_CONVERGENCE_MSG)\n",
            "/usr/local/lib/python3.7/dist-packages/sklearn/linear_model/_logistic.py:940: ConvergenceWarning: lbfgs failed to converge (status=1):\n",
            "STOP: TOTAL NO. of ITERATIONS REACHED LIMIT.\n",
            "\n",
            "Increase the number of iterations (max_iter) or scale the data as shown in:\n",
            "    https://scikit-learn.org/stable/modules/preprocessing.html\n",
            "Please also refer to the documentation for alternative solver options:\n",
            "    https://scikit-learn.org/stable/modules/linear_model.html#logistic-regression\n",
            "  extra_warning_msg=_LOGISTIC_SOLVER_CONVERGENCE_MSG)\n",
            "/usr/local/lib/python3.7/dist-packages/sklearn/linear_model/_logistic.py:940: ConvergenceWarning: lbfgs failed to converge (status=1):\n",
            "STOP: TOTAL NO. of ITERATIONS REACHED LIMIT.\n",
            "\n",
            "Increase the number of iterations (max_iter) or scale the data as shown in:\n",
            "    https://scikit-learn.org/stable/modules/preprocessing.html\n",
            "Please also refer to the documentation for alternative solver options:\n",
            "    https://scikit-learn.org/stable/modules/linear_model.html#logistic-regression\n",
            "  extra_warning_msg=_LOGISTIC_SOLVER_CONVERGENCE_MSG)\n",
            "Accuracy : 0.5135135135135135\n",
            "Precision : 0.5094339622641509\n",
            "Recall : 0.4909090909090909\n",
            "F1 : 0.5\n",
            "=======DecisionTreeClassifier=======\n",
            "Accuracy : 0.5720720720720721\n",
            "Precision : 0.5715089750354799\n",
            "Recall : 0.5454545454545455\n",
            "F1 : 0.5580223971897068\n",
            "=======RandomForestClassifier=======\n",
            "Accuracy : 0.5990990990990991\n",
            "Precision : 0.5994294265149817\n",
            "Recall : 0.5696969696969697\n",
            "F1 : 0.5832741626928556\n",
            "=======SVM -linear kernel=======\n",
            "Accuracy : 0.5495495495495496\n",
            "Precision : 0.5490196078431372\n",
            "Recall : 0.5090909090909089\n",
            "F1 : 0.5283018867924528\n",
            "=======ExtraTreesClassifier=======\n",
            "Accuracy : 0.6051051051051051\n",
            "Precision : 0.6052650689905592\n",
            "Recall : 0.5848484848484848\n",
            "F1 : 0.5947492931740811\n",
            "=======KNeighborsClassifier=======\n",
            "Accuracy : 0.5945945945945946\n",
            "Precision : 0.6086956521739131\n",
            "Recall : 0.5090909090909089\n",
            "F1 : 0.5544554455445544\n",
            "=======AdaBoostClassifier=======\n",
            "Accuracy : 0.5495495495495496\n",
            "Precision : 0.5423728813559322\n",
            "Recall : 0.5818181818181819\n",
            "F1 : 0.5614035087719298\n",
            "\n",
            "\n",
            " Working on Gossipcop Data \n",
            "\n",
            "\n",
            "\n",
            " dc.shape is : s (7368, 220)\n",
            "\n",
            " TRAIN AND TEST SHAPES ARE AS FOLLOWS\n",
            "\n",
            " X TRAIN :  (5894, 220)\n",
            "\n",
            " Y TRAIN  (5894,)\n",
            "\n",
            " X TEST  (1474, 220)\n",
            "\n",
            " Y TEST  (1474,) \n",
            "\n",
            "=======GaussianNB=======\n",
            "Accuracy : 0.5956580732700135\n",
            "Precision : 0.5677233429394812\n",
            "Recall : 0.801899592944369\n",
            "F1 : 0.6647919010123734\n",
            "=======LogisticRegression=======\n",
            "Accuracy : 0.7510176390773405\n",
            "Precision : 0.7673410404624278\n",
            "Recall : 0.7204884667571235\n",
            "F1 : 0.7431770468859343\n",
            "=======DecisionTreeClassifier=======\n",
            "Accuracy : 0.733491632745364\n",
            "Precision : 0.7388810656542574\n",
            "Recall : 0.7222976028946179\n",
            "F1 : 0.7304807004524075\n",
            "=======RandomForestClassifier=======\n",
            "Accuracy : 0.7781546811397558\n",
            "Precision : 0.817850866813793\n",
            "Recall : 0.7157394843962007\n",
            "F1 : 0.7633858261579625\n",
            "=======SVM -linear kernel=======\n",
            "Accuracy : 0.7489823609226595\n",
            "Precision : 0.7742899850523169\n",
            "Recall : 0.7028493894165536\n",
            "F1 : 0.7368421052631579\n",
            "=======ExtraTreesClassifier=======\n",
            "Accuracy : 0.7765716870194482\n",
            "Precision : 0.8153787079525031\n",
            "Recall : 0.7150610583446405\n",
            "F1 : 0.7619199706657067\n",
            "=======KNeighborsClassifier=======\n",
            "Accuracy : 0.723202170963365\n",
            "Precision : 0.7615262321144675\n",
            "Recall : 0.649932157394844\n",
            "F1 : 0.7013177159590044\n",
            "=======AdaBoostClassifier=======\n",
            "Accuracy : 0.7747625508819539\n",
            "Precision : 0.7905308464849354\n",
            "Recall : 0.7476255088195387\n",
            "F1 : 0.7684797768479777\n"
          ],
          "name": "stdout"
        }
      ]
    }
  ]
}